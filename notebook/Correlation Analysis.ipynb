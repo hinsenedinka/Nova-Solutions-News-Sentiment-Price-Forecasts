{
 "cells": [
  {
   "cell_type": "markdown",
   "id": "e3facd26",
   "metadata": {},
   "source": [
    "**Correlation between news and stock movement**"
   ]
  },
  {
   "cell_type": "code",
   "execution_count": null,
   "id": "d27a17c9",
   "metadata": {},
   "outputs": [],
   "source": [
    "import pandas as pd  #importing neccessary libraries for the operation\n",
    "import matplotlib.pyplot as plt\n",
    "import seaborn as sns\n",
    "from textblob import TextBlob\n",
    "import nltk\n"
   ]
  },
  {
   "cell_type": "code",
   "execution_count": 6,
   "id": "cc58915c",
   "metadata": {},
   "outputs": [
    {
     "name": "stdout",
     "output_type": "stream",
     "text": [
      "news_data.csv not found. Using dummy news data for demonstration.\n",
      "Data loaded successfully from AAPL\n",
      "Data loaded successfully from AMZN\n",
      "Data loaded successfully from GOOG\n",
      "Data loaded successfully from META\n",
      "Data loaded successfully from MSFT\n",
      "Data loaded successfully from NVDA\n",
      "Data loaded successfully from TSLA\n",
      "Stock data loaded (or dummy data generated).\n"
     ]
    }
   ],
   "source": [
    "try:\n",
    "    # Attempt to load your actual news data file\n",
    "    news_df = pd.read_csv('news_data_processed.csv')\n",
    "    print(\"Loaded news_data.csv from file.\")\n",
    "except FileNotFoundError:\n",
    "    print(\"news_data.csv not found. Using dummy news data for demonstration.\")\n",
    "\n",
    "# --- Stock Data (Dictionary of DataFrames) ---\n",
    "#Stock data source path\n",
    "\n",
    "AAPL_path=r'C:\\Users\\hp\\Nova-Solutions-News-Sentiment-Price-Forecasts\\notebook\\data\\Processed_data\\AAPL_stock_data.csv'\n",
    "AMZN_path=r'C:\\Users\\hp\\Nova-Solutions-News-Sentiment-Price-Forecasts\\notebook\\data\\Processed_data\\AMZN_stock_data.csv'\n",
    "GOOG_path=r'C:\\Users\\hp\\Nova-Solutions-News-Sentiment-Price-Forecasts\\notebook\\data\\Processed_data\\GOOG_stock_data.csv'\n",
    "META_path=r'C:\\Users\\hp\\Nova-Solutions-News-Sentiment-Price-Forecasts\\notebook\\data\\Processed_data\\META_stock_data.csv'\n",
    "MSFT_path=r'C:\\Users\\hp\\Nova-Solutions-News-Sentiment-Price-Forecasts\\notebook\\data\\Processed_data\\MSFT_stock_data.csv'\n",
    "NVDA_path=r'C:\\Users\\hp\\Nova-Solutions-News-Sentiment-Price-Forecasts\\notebook\\data\\Processed_data\\NVDA_stock_data.csv'\n",
    "TSLA_path=r'C:\\Users\\hp\\Nova-Solutions-News-Sentiment-Price-Forecasts\\notebook\\data\\Processed_data\\TSLA_stock_data.csv'\n",
    "\n",
    "#Loading Stock data from csv\n",
    "try:\n",
    "    AAPL_df = pd.read_csv(AAPL_path)\n",
    "    print(f\"Data loaded successfully from AAPL\")\n",
    "    AMZN_df = pd.read_csv(AMZN_path)\n",
    "    print(f\"Data loaded successfully from AMZN\")\n",
    "    GOOG_df = pd.read_csv(GOOG_path)\n",
    "    print(f\"Data loaded successfully from GOOG\")\n",
    "    META_df = pd.read_csv(META_path)\n",
    "    print(f\"Data loaded successfully from META\")\n",
    "    MSFT_df = pd.read_csv(MSFT_path)\n",
    "    print(f\"Data loaded successfully from MSFT\")\n",
    "    NVDA_df = pd.read_csv(NVDA_path)\n",
    "    print(f\"Data loaded successfully from NVDA\")\n",
    "    TSLA_df = pd.read_csv(TSLA_path)\n",
    "    print(f\"Data loaded successfully from TSLA\")\n",
    "except FileNotFoundError:\n",
    "    print(f\"Error: The file AAPL_path was not found. Please check the path.\")\n",
    "    print(f\"Error: The file AMZN_path was not found. Please check the path.\")\n",
    "    print(f\"Error: The file GOOG_path was not found. Please check the path.\")\n",
    "    print(f\"Error: The file META_path was not found. Please check the path.\")\n",
    "    print(f\"Error: The file MSFT_path was not found. Please check the path.\")\n",
    "    print(f\"Error: The file NVDA_path was not found. Please check the path.\")\n",
    "    print(f\"Error: The file TSLA_path was not found. Please check the path.\")\n",
    "print(\"Stock data loaded (or dummy data generated).\")\n",
    "\n",
    "stock_data = {\n",
    "     \"AAPL\": AAPL_df,\n",
    "     \"AMZN\": AMZN_df,\n",
    "     \"MSFT\":MSFT_df,\n",
    "     \"TSLA\":TSLA_df,\n",
    "     \"META\":META_df,\n",
    "     \"NVDA\":NVDA_df,\n",
    "     \"GOOG\":GOOG_df,\n",
    "                   }"
   ]
  },
  {
   "cell_type": "code",
   "execution_count": null,
   "id": "d20b9c25",
   "metadata": {},
   "outputs": [],
   "source": []
  },
  {
   "cell_type": "code",
   "execution_count": null,
   "id": "d938c7f0",
   "metadata": {},
   "outputs": [],
   "source": []
  }
 ],
 "metadata": {
  "kernelspec": {
   "display_name": ".venv",
   "language": "python",
   "name": "python3"
  },
  "language_info": {
   "codemirror_mode": {
    "name": "ipython",
    "version": 3
   },
   "file_extension": ".py",
   "mimetype": "text/x-python",
   "name": "python",
   "nbconvert_exporter": "python",
   "pygments_lexer": "ipython3",
   "version": "3.13.3"
  }
 },
 "nbformat": 4,
 "nbformat_minor": 5
}
